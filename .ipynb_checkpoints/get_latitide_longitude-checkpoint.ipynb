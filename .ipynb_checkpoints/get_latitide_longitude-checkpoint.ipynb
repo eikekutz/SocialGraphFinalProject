{
 "cells": [
  {
   "cell_type": "code",
   "execution_count": 1,
   "metadata": {},
   "outputs": [
    {
     "name": "stdout",
     "output_type": "stream",
     "text": [
      "Requirement already satisfied: geopy in /Users/Eike/anaconda3/lib/python3.6/site-packages (1.17.0)\r\n",
      "Requirement already satisfied: geographiclib<2,>=1.49 in /Users/Eike/anaconda3/lib/python3.6/site-packages (from geopy) (1.49)\r\n"
     ]
    }
   ],
   "source": [
    "!pip install geopy"
   ]
  },
  {
   "cell_type": "code",
   "execution_count": 2,
   "metadata": {},
   "outputs": [],
   "source": [
    "from geopy import geocoders  \n",
    "import pandas as pd\n",
    "# if geopy does not work -> http://www.geonames.org/login and log in with cred:\n",
    "# username: kacper\n",
    "# pass : zaq12345\n",
    "def getCityCoords(name):\n",
    "    gn = geocoders.GeoNames(username='kacper')\n",
    "    geocoders.GeoNames()\n",
    "    try:\n",
    "        loc = gn.geocode(name, timeout=10)\n",
    "        \n",
    "        if loc is None:\n",
    "            raise TypeError\n",
    "    except Exception as inst:\n",
    "        print('This city was not found:',name)\n",
    "    #print(len(loc))\n",
    "   # print(loc[0].raw)\n",
    "    return loc\n",
    "\n",
    "#If you cant find proper city: list all posibilities:\n",
    "#print(gn.geocode(\"Cleveland, OH\",exactly_one=False, timeout=10)\n"
   ]
  },
  {
   "cell_type": "code",
   "execution_count": 3,
   "metadata": {},
   "outputs": [],
   "source": [
    "#example:\n",
    "city_list = ['Copenhagen','Aarhus','Odense','Aalborg','Esbjerg','Randers','Kolding','Horsens','Vejle','Roskilde']\n",
    "coords = dict()\n",
    "for name in city_list:\n",
    "    loc = getCityCoords(name)\n",
    "    lat= loc.raw['lat']\n",
    "    lng = loc.raw['lng']\n",
    "    population = loc.raw['population']\n",
    "    coords[name] = (lat,lng)\n"
   ]
  },
  {
   "cell_type": "code",
   "execution_count": 8,
   "metadata": {},
   "outputs": [
    {
     "data": {
      "text/plain": [
       "{'adminCode1': '17',\n",
       " 'adminCodes1': {'ISO3166_2': '84'},\n",
       " 'adminName1': 'Capital Region',\n",
       " 'countryCode': 'DK',\n",
       " 'countryId': '2623032',\n",
       " 'countryName': 'Denmark',\n",
       " 'fcl': 'P',\n",
       " 'fclName': 'city, village,...',\n",
       " 'fcode': 'PPLC',\n",
       " 'fcodeName': 'capital of a political entity',\n",
       " 'geonameId': 2618425,\n",
       " 'lat': '55.67594',\n",
       " 'lng': '12.56553',\n",
       " 'name': 'Copenhagen',\n",
       " 'population': 1153615,\n",
       " 'toponymName': 'Copenhagen'}"
      ]
     },
     "execution_count": 8,
     "metadata": {},
     "output_type": "execute_result"
    }
   ],
   "source": [
    "#what you can get from there:\n",
    "\n",
    "getCityCoords(city_list[0]).raw"
   ]
  },
  {
   "cell_type": "code",
   "execution_count": null,
   "metadata": {
    "collapsed": true
   },
   "outputs": [],
   "source": []
  }
 ],
 "metadata": {
  "kernelspec": {
   "display_name": "Python 3",
   "language": "python",
   "name": "python3"
  },
  "language_info": {
   "codemirror_mode": {
    "name": "ipython",
    "version": 3
   },
   "file_extension": ".py",
   "mimetype": "text/x-python",
   "name": "python",
   "nbconvert_exporter": "python",
   "pygments_lexer": "ipython3",
   "version": "3.6.5"
  }
 },
 "nbformat": 4,
 "nbformat_minor": 2
}
