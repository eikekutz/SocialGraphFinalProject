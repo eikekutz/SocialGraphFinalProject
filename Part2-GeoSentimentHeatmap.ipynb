{
 "cells": [
  {
   "cell_type": "code",
   "execution_count": 2,
   "metadata": {},
   "outputs": [
    {
     "name": "stdout",
     "output_type": "stream",
     "text": [
      "Collecting folium\n",
      "\u001b[?25l  Downloading https://files.pythonhosted.org/packages/55/e2/7e523df8558b7f4b2ab4c62014fd378ccecce3fdc14c9928b272a88ae4cc/folium-0.7.0-py3-none-any.whl (85kB)\n",
      "\u001b[K    100% |████████████████████████████████| 92kB 2.4MB/s ta 0:00:01\n",
      "\u001b[?25hCollecting geopandas\n",
      "\u001b[?25l  Downloading https://files.pythonhosted.org/packages/24/11/d77c157c16909bd77557d00798b05a5b6615ed60acb5900fbe6a65d35e93/geopandas-0.4.0-py2.py3-none-any.whl (899kB)\n",
      "\u001b[K    100% |████████████████████████████████| 901kB 3.7MB/s ta 0:00:011\n",
      "\u001b[?25hRequirement already satisfied: six in /Users/Eike/anaconda3/lib/python3.6/site-packages (from folium) (1.11.0)\n",
      "Requirement already satisfied: jinja2 in /Users/Eike/anaconda3/lib/python3.6/site-packages (from folium) (2.10)\n",
      "Requirement already satisfied: numpy in /Users/Eike/anaconda3/lib/python3.6/site-packages (from folium) (1.14.3)\n",
      "Requirement already satisfied: requests in /Users/Eike/anaconda3/lib/python3.6/site-packages (from folium) (2.18.4)\n",
      "Collecting branca>=0.3.0 (from folium)\n",
      "  Downloading https://files.pythonhosted.org/packages/63/36/1c93318e9653f4e414a2e0c3b98fc898b4970e939afeedeee6075dd3b703/branca-0.3.1-py3-none-any.whl\n",
      "Requirement already satisfied: pandas in /Users/Eike/anaconda3/lib/python3.6/site-packages (from geopandas) (0.23.0)\n",
      "Requirement already satisfied: pyproj in /Users/Eike/anaconda3/lib/python3.6/site-packages (from geopandas) (1.9.5.1)\n",
      "Collecting fiona (from geopandas)\n",
      "\u001b[?25l  Downloading https://files.pythonhosted.org/packages/25/8f/1877c9fd7eff95a7aa596720aa6beba55125efd6d6f88d1baf48288f4d42/Fiona-1.8.3-cp36-cp36m-macosx_10_6_intel.macosx_10_9_intel.macosx_10_9_x86_64.macosx_10_10_intel.macosx_10_10_x86_64.whl (24.5MB)\n",
      "\u001b[K    100% |████████████████████████████████| 24.5MB 631kB/s ta 0:00:011    70% |██████████████████████▌         | 17.3MB 3.1MB/s eta 0:00:03    84% |███████████████████████████     | 20.7MB 3.6MB/s eta 0:00:02\n",
      "\u001b[?25hRequirement already satisfied: shapely in /Users/Eike/anaconda3/lib/python3.6/site-packages (from geopandas) (1.6.4.post2)\n",
      "Requirement already satisfied: MarkupSafe>=0.23 in /Users/Eike/anaconda3/lib/python3.6/site-packages (from jinja2->folium) (1.0)\n",
      "Requirement already satisfied: chardet<3.1.0,>=3.0.2 in /Users/Eike/anaconda3/lib/python3.6/site-packages (from requests->folium) (3.0.4)\n",
      "Requirement already satisfied: idna<2.7,>=2.5 in /Users/Eike/anaconda3/lib/python3.6/site-packages (from requests->folium) (2.6)\n",
      "Requirement already satisfied: urllib3<1.23,>=1.21.1 in /Users/Eike/anaconda3/lib/python3.6/site-packages (from requests->folium) (1.22)\n",
      "Requirement already satisfied: certifi>=2017.4.17 in /Users/Eike/anaconda3/lib/python3.6/site-packages (from requests->folium) (2018.10.15)\n",
      "Requirement already satisfied: python-dateutil>=2.5.0 in /Users/Eike/anaconda3/lib/python3.6/site-packages (from pandas->geopandas) (2.7.3)\n",
      "Requirement already satisfied: pytz>=2011k in /Users/Eike/anaconda3/lib/python3.6/site-packages (from pandas->geopandas) (2018.4)\n",
      "Collecting munch (from fiona->geopandas)\n",
      "  Downloading https://files.pythonhosted.org/packages/68/f4/260ec98ea840757a0da09e0ed8135333d59b8dfebe9752a365b04857660a/munch-2.3.2.tar.gz\n",
      "Requirement already satisfied: click<8,>=4.0 in /Users/Eike/anaconda3/lib/python3.6/site-packages (from fiona->geopandas) (6.7)\n",
      "Collecting click-plugins>=1.0 (from fiona->geopandas)\n",
      "  Downloading https://files.pythonhosted.org/packages/95/dd/fef84cf1678418f241ef542c0288bdf215bdd3e35f1fe03dc5223a2e80ba/click_plugins-1.0.4-py2.py3-none-any.whl\n",
      "Collecting cligj>=0.5 (from fiona->geopandas)\n",
      "  Downloading https://files.pythonhosted.org/packages/e4/be/30a58b4b0733850280d01f8bd132591b4668ed5c7046761098d665ac2174/cligj-0.5.0-py3-none-any.whl\n",
      "Requirement already satisfied: attrs>=17 in /Users/Eike/anaconda3/lib/python3.6/site-packages (from fiona->geopandas) (18.1.0)\n",
      "Building wheels for collected packages: munch\n",
      "  Running setup.py bdist_wheel for munch ... \u001b[?25ldone\n",
      "\u001b[?25h  Stored in directory: /Users/Eike/Library/Caches/pip/wheels/db/bf/bc/06a3e1bfe0ab27d2e720ceb3cff3159398d92644c0cec2c125\n",
      "Successfully built munch\n",
      "Installing collected packages: branca, folium, munch, click-plugins, cligj, fiona, geopandas\n",
      "Successfully installed branca-0.3.1 click-plugins-1.0.4 cligj-0.5.0 fiona-1.8.3 folium-0.7.0 geopandas-0.4.0 munch-2.3.2\n"
     ]
    }
   ],
   "source": [
    "import pandas as pd\n",
    "!pip3 install folium geopandas"
   ]
  },
  {
   "cell_type": "code",
   "execution_count": null,
   "metadata": {},
   "outputs": [],
   "source": []
  }
 ],
 "metadata": {
  "kernelspec": {
   "display_name": "Python 3",
   "language": "python",
   "name": "python3"
  },
  "language_info": {
   "codemirror_mode": {
    "name": "ipython",
    "version": 3
   },
   "file_extension": ".py",
   "mimetype": "text/x-python",
   "name": "python",
   "nbconvert_exporter": "python",
   "pygments_lexer": "ipython3",
   "version": "3.6.5"
  }
 },
 "nbformat": 4,
 "nbformat_minor": 2
}
